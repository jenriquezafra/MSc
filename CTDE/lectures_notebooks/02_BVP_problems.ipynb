{
 "cells": [
  {
   "cell_type": "markdown",
   "metadata": {
    "slideshow": {
     "slide_type": "skip"
    }
   },
   "source": [
    "<table>\n",
    " <tr align=left><td><img align=left src=\"https://i.creativecommons.org/l/by/4.0/88x31.png\">\n",
    " <td>Text provided under a Creative Commons Attribution license, CC-BY. All code is made available under the FSF-approved MIT license.</td>\n",
    "</table>"
   ]
  },
  {
   "cell_type": "code",
   "execution_count": 43,
   "metadata": {
    "slideshow": {
     "slide_type": "skip"
    }
   },
   "outputs": [],
   "source": [
    "from __future__ import print_function\n",
    "\n",
    "%matplotlib inline\n",
    "\n",
    "import numpy\n",
    "import matplotlib.pyplot as plt"
   ]
  },
  {
   "cell_type": "markdown",
   "metadata": {
    "slideshow": {
     "slide_type": "slide"
    }
   },
   "source": [
    "# Boundary Value Problems:  Discretization"
   ]
  },
  {
   "cell_type": "markdown",
   "metadata": {},
   "source": [
    "### Overview  \n",
    "\n",
    "These lectures cover the fundamentals of finite difference methods for boundary value problems (BVPs) in one dimension, including **Dirichlet** and **Neumann** problems, error analysis, stability, higher-order methods, and nonlinear BVPs.  \n",
    "\n",
    "Main references:  \n",
    "- Randall LeVeque, *Finite Difference Methods for Ordinary and Partial Differential Equations* (SIAM, 2007).  \n",
    "- Z. Li, Z. Qiao, T. Tang, *Numerical Solution of Differential Equations*.  \n",
    "\n"
   ]
  },
  {
   "cell_type": "markdown",
   "metadata": {
    "slideshow": {
     "slide_type": "slide"
    }
   },
   "source": [
    "## Model Problems"
   ]
  },
  {
   "cell_type": "markdown",
   "metadata": {
    "slideshow": {
     "slide_type": "subslide"
    }
   },
   "source": [
    "The simplest boundary value problem (BVP) we will run into is the one-dimensional version of Poisson's equation\n",
    "$$\n",
    "    u''(x) = f(x).\n",
    "$$"
   ]
  },
  {
   "cell_type": "markdown",
   "metadata": {
    "slideshow": {
     "slide_type": "subslide"
    }
   },
   "source": [
    "Usually we solve this equation on a finite interval with either Dirichlet or Neumann boundary conditions.  Because there are two derivatives in the equation we need two boundary conditions to solve the PDE (really and ODE in this case) uniquely.  To start let us consider the following basic problem\n",
    "\n",
    "$$\\begin{aligned}\n",
    "    u''(x) = f(x) \\quad \\Omega = [a, b] \\\\\n",
    "    u(a) = \\alpha \\quad u(b) = \\beta.\n",
    "\\end{aligned}$$"
   ]
  },
  {
   "cell_type": "markdown",
   "metadata": {
    "slideshow": {
     "slide_type": "subslide"
    }
   },
   "source": [
    "BVPs of this sort are often the result of looking at the steady-state form of a time dependent PDE.  For instance, if we were considering the steady-state solution to the heat equation\n",
    "$$\n",
    "    u_t(x,t) = \\kappa u_{xx}(x,t) + \\Psi(x,t) \\quad \\Omega = [0, T] \\times [a, b] \\\\\n",
    "    u(x, 0) = u^0(x) \\quad u(a, t) = \\alpha(t) \\quad u(b, t) = \\beta(t)\n",
    "$$\n",
    "we would solve the equation where $u_t = 0$ and arrive at\n",
    "$$\n",
    "    u''(x) = - \\frac{\\Psi}{\\kappa},\n",
    "$$\n",
    "a version of Poisson's equation above."
   ]
  },
  {
   "cell_type": "markdown",
   "metadata": {
    "slideshow": {
     "slide_type": "subslide"
    }
   },
   "source": [
    "In higher spatial dimensions the second derivative turns into a Laplacian.  Notation varies for this but all these are equivalent statements:\n",
    "$$\\begin{aligned}\n",
    "    \\nabla^2 u(\\vec{x~}) &= f(\\vec{x~}) \\\\\n",
    "    \\Delta u(\\vec{x~}) &= f(\\vec{x~}) \\\\\n",
    "    \\sum^N_{i=1} u_{x_i x_i} &= f(\\vec{x~}).\n",
    "\\end{aligned}$$"
   ]
  },
  {
   "cell_type": "markdown",
   "metadata": {},
   "source": [
    "## Finite Difference Methods for 1D Boundary Value Problems  \n",
    "\n",
    "We consider the Dirichlet two-point boundary value problem in one dimension:  \n",
    "\n",
    "$$\n",
    "u''(x) = f(x), \\quad x \\in (a, b),\n",
    "$$  \n",
    "\n",
    "with boundary conditions  \n",
    "\n",
    "$$\n",
    "u(a) = \\alpha, \\quad u(b) = \\beta.\n",
    "$$  \n",
    "\n",
    "This is a **two-point boundary value problem** because data are specified at both ends.  \n",
    "\n",
    "- **Dirichlet:** values of $u(x)$ at the endpoints.  \n",
    "- **Neumann:** values of $u'(x)$ at the endpoints.  \n",
    "- **Robin (mixed):** linear combination of $u(x)$ and $u'(x)$ at each endpoint.  \n"
   ]
  },
  {
   "cell_type": "markdown",
   "metadata": {},
   "source": [
    "### A Finite Difference Method  \n",
    "\n",
    "Let $x \\in [0,1]$. We want to solve  \n",
    "\n",
    "$$\n",
    "u''(x) = f(x), \\quad x \\in (0,1),\n",
    "$$  \n",
    "\n",
    "with boundary conditions  \n",
    "\n",
    "$$\n",
    "u(0) = \\alpha, \\quad u(1) = \\beta.\n",
    "$$  \n",
    "\n",
    "We prescribe a grid of $m+2$ equally spaced points:  \n",
    "\n",
    "$$\n",
    "x_j = jh, \\quad j=0,1,\\ldots,m+1, \\quad h=\\frac{1}{m+1}.\n",
    "$$  \n",
    "\n",
    "Grid function:  \n",
    "\n",
    "$$\n",
    "U_j \\approx u(x_j), \\quad j=0,\\ldots,m+1.\n",
    "$$  \n",
    "\n",
    "- $U_0 = \\alpha$,  \n",
    "- $U_{m+1} = \\beta$,  \n",
    "- unknowns: $U_1, \\ldots, U_m$.  \n"
   ]
  },
  {
   "cell_type": "markdown",
   "metadata": {},
   "source": [
    "At interior grid points:  \n",
    "\n",
    "$$\n",
    "u''(x_j) = f(x_j), \\quad j=1,\\ldots,m.\n",
    "$$  \n",
    "\n",
    "Using the centered finite difference:  \n",
    "\n",
    "$$\n",
    "u''(x_j) \\approx \\frac{1}{h^2}\\left(u(x_{j-1}) - 2u(x_j) + u(x_{j+1})\\right) + O(h^2),\n",
    "$$  \n",
    "\n",
    "we obtain  \n",
    "\n",
    "$$\n",
    "\\frac{1}{h^2}(U_{j-1} - 2U_j + U_{j+1}) = f(x_j), \\quad j=1,\\ldots,m.\n",
    "$$  \n",
    "\n",
    "Matrix form:  \n",
    "\n",
    "$$\n",
    "AU = F\n",
    "$$  \n",
    "\n",
    "with  \n",
    "\n",
    "$$\n",
    "A = \\frac{1}{h^2}\n",
    "\\begin{bmatrix}\n",
    "-2 & 1 & 0 & \\cdots & 0 \\\\\n",
    "1 & -2 & 1 & \\ddots & \\vdots \\\\\n",
    "0 & 1 & -2 & \\ddots & 0 \\\\\n",
    "\\vdots & \\ddots & \\ddots & \\ddots & 1 \\\\\n",
    "0 & \\cdots & 0 & 1 & -2\n",
    "\\end{bmatrix}.\n",
    "$$  \n"
   ]
  },
  {
   "cell_type": "markdown",
   "metadata": {},
   "source": [
    "--- \n",
    "\n",
    "#### Exercise: Solving a Boundary Value Problem with Finite Differences\n",
    "\n",
    "We want to solve the BVP\n",
    "\n",
    "$$\n",
    "    u_{xx} = e^x, \\quad x \\in [0, 1], \\quad u(0) = 0, \\quad u(1) = 3\n",
    "$$\n",
    "\n",
    "using the finite difference method.\n"
   ]
  },
  {
   "cell_type": "markdown",
   "metadata": {},
   "source": [
    "$$\\begin{aligned}\n",
    "    u_{xx} &= e^x \\\\\n",
    "    u_x &= A + e^x \\\\\n",
    "    u &= Ax + B + e^x\\\\\n",
    "    u(0) &= B + 1 = 0 \\Rightarrow B = -1 \\\\\n",
    "    u(1) &= A - 1 + e^{1} = 3 \\Rightarrow A = 4 - e\\\\ \n",
    "    ~\\\\\n",
    "    u(x) &= (4 - e) x - 1 + e^x\n",
    "\\end{aligned}$$"
   ]
  },
  {
   "cell_type": "markdown",
   "metadata": {},
   "source": [
    "\n",
    "--- \n",
    "\n",
    "#### **Homework 1:** \n",
    "\n",
    "Copy this into your script\n",
    "\n",
    "```python\n",
    "import numpy\n",
    "import matplotlib.pyplot as plt\n",
    "\n",
    "# Problem setup\n",
    "a = 0.0\n",
    "b = 1.0\n",
    "u_a = 0.0\n",
    "u_b = 3.0\n",
    "f = lambda x: numpy.exp(x)   # right-hand side function\n",
    "u_true = lambda x: (4.0 - numpy.exp(1.0)) * x - 1.0 + numpy.exp(x)  # exact solution\n",
    "```\n"
   ]
  },
  {
   "cell_type": "markdown",
   "metadata": {},
   "source": [
    "\n",
    "---\n",
    "\n",
    "##### Question 1 – Implement the solver\n",
    "\n",
    "Write a Python function that constructs and solves the finite difference approximation of the BVP:\n",
    "\n",
    "```python\n",
    "def solve_bvp(a, b, u_a, u_b, f, m):\n",
    "    \"\"\"\n",
    "    Solve the boundary value problem:\n",
    "        u''(x) = f(x),  x ∈ [a, b],\n",
    "        u(a) = u_a,  u(b) = u_b\n",
    "\n",
    "    Parameters\n",
    "    ----------\n",
    "    a : float\n",
    "        Left boundary point\n",
    "    b : float\n",
    "        Right boundary point\n",
    "    u_a : float\n",
    "        Boundary condition at x = a\n",
    "    u_b : float\n",
    "        Boundary condition at x = b\n",
    "    f : callable\n",
    "        Function f(x) on the right-hand side\n",
    "    m : int\n",
    "        Number of interior grid points\n",
    "\n",
    "    Returns\n",
    "    -------\n",
    "    x_bc : ndarray\n",
    "        Array of all grid points including boundaries\n",
    "    U : ndarray\n",
    "        Approximate solution at all grid points\n",
    "    \"\"\"\n",
    "\n",
    "    # Step 1: Discretize domain\n",
    "    # x_bc = numpy.linspace(...)\n",
    "    # x = interior points\n",
    "    # h = step size\n",
    "\n",
    "    # Step 2: Build matrix A (size m x m) for finite difference operator\n",
    "\n",
    "    # Step 3: Build RHS vector, including boundary adjustments\n",
    "\n",
    "    # Step 4: Solve linear system for interior values\n",
    "\n",
    "    # Step 5: Reconstruct full solution with boundary values\n",
    "\n",
    "    return x_bc, U\n",
    "```\n"
   ]
  },
  {
   "cell_type": "markdown",
   "metadata": {},
   "source": [
    "After writing the function, test it with:\n",
    "\n",
    "```python\n",
    "m = 10\n",
    "x_bc, U = solve_bvp(a, b, u_a, u_b, f, m)\n",
    "\n",
    "plt.plot(x_bc, U, 'o-', label=\"Numerical\")\n",
    "plt.plot(x_bc, u_true(x_bc), 'k', label=\"Exact\")\n",
    "plt.xlabel(\"x\")\n",
    "plt.ylabel(\"u(x)\")\n",
    "plt.title(\"Solution to $u_{xx} = e^x$\")\n",
    "plt.legend()\n",
    "plt.show()\n",
    "```\n"
   ]
  },
  {
   "cell_type": "markdown",
   "metadata": {},
   "source": [
    "\n",
    "---\n",
    "\n",
    "##### Question 2 – Convergence analysis\n",
    "\n",
    "Use your function to test convergence.\n",
    "\n",
    "1. Solve the problem for different values of `m`, for example:\n",
    "\n",
    "   ```python\n",
    "   m_values = [10, 20, 40, 80, 160]\n",
    "   ```\n",
    "2. For each case, compute the error:\n",
    "\n",
    "   ```python\n",
    "   error = numpy.max(numpy.abs(U - u_true(x_bc)))\n",
    "   ```\n",
    "3. Store the pair `(h, error)` where `h = (b - a)/(m+1)`.\n",
    "4. Plot error versus `h` on a log-log scale.\n",
    "5. Estimate the slope of the error curve → this corresponds to the **order of accuracy**.\n",
    "6.  Construct a table with:\n",
    "\n",
    "   * grid size `m`,\n",
    "   * step size `h`,\n",
    "   * error,\n",
    "   * ratio of convergence `p` between successive refinements.\n",
    "   \n",
    "   Hint: The formula is:\n",
    "$$\n",
    "p \\approx \\frac{\\log\\left(\\frac{E_{k}}{E_{k+1}}\\right)}{\\log\\left(\\frac{h_{k}}{h_{k+1}}\\right)}\n",
    "$$\n",
    "where\n",
    "* $E_k$ is the error at mesh size $h_k$,\n",
    "* $E_{k+1}$ is the error at the finer mesh $h_{k+1}$.\n",
    "\n",
    "If the method is second-order, they should observe $p \\approx 2$.\n",
    "\n",
    "--- "
   ]
  },
  {
   "cell_type": "markdown",
   "metadata": {
    "slideshow": {
     "slide_type": "slide"
    }
   },
   "source": [
    "## Error Analysis\n",
    "\n",
    "A natural question to ask given our approximation $U_i$ is how close this is to the true solution $u(x)$ at the grid points $x_i$.  To address this we will define the error $E$ as\n",
    "$$\n",
    "    E_j = U_j - u(x_j),\\quad  j=0,\\dots,m+1. \n",
    "$$\n"
   ]
  },
  {
   "cell_type": "markdown",
   "metadata": {
    "slideshow": {
     "slide_type": "subslide"
    }
   },
   "source": [
    "This leaves $E$ as a vector still so often we ask the question how does the norm of $E$ behave given a particular $h$.  For the $\\infty$-norm we would have\n",
    "$$\n",
    "    ||E||_\\infty = \\max_{1 \\leq i \\leq m} |E_i| = \\max_{1 \\leq i \\leq m} |U_i - u(x_i)|\n",
    "$$"
   ]
  },
  {
   "cell_type": "markdown",
   "metadata": {
    "slideshow": {
     "slide_type": "subslide"
    }
   },
   "source": [
    "If we can show that $||E||_\\infty$ goes to zero as $h \\rightarrow 0$ we can then claim that the approximate solution $U_i$ at any of the grid points $E_i \\rightarrow 0$.  If we would like to use other norms we often define slightly modified versions of the norms that also contain the grid width $h$ where\n",
    "$$\\begin{aligned}\n",
    "    ||E||_1 &= h \\sum^m_{i=1} |E_i| \\\\\n",
    "    ||E||_2 &= \\left( h \\sum^m_{i=1} |E_i|^2 \\right )^{1/2}\n",
    "\\end{aligned}$$\n",
    "These are referred to as *grid function norms*.\n",
    "\n",
    "The $E$ defined above is known as the *global error*.  One of our main goals throughout this course is to understand how $E$ behaves given other factors as we defined later."
   ]
  },
  {
   "cell_type": "markdown",
   "metadata": {
    "slideshow": {
     "slide_type": "subslide"
    }
   },
   "source": [
    "### Local Truncation Error\n",
    "\n",
    "The *local truncation error* (LTE) can be defined by replacing the approximate solution $U_i$ by the approximate solution $u(x_i)$.  Since the algebraic equations are an approximation to the original BVP, we do not expect that the true solution will exactly satisfy these equations, this resulting difference is the LTE."
   ]
  },
  {
   "cell_type": "markdown",
   "metadata": {
    "slideshow": {
     "slide_type": "subslide"
    }
   },
   "source": [
    "For our one-dimensional finite difference approximation from above we have\n",
    "$$\n",
    "    \\frac{1}{h^2} (U_{i+1} - 2 U_i + U_{i-1}) = f(x_i).\n",
    "$$"
   ]
  },
  {
   "cell_type": "markdown",
   "metadata": {
    "slideshow": {
     "slide_type": "subslide"
    }
   },
   "source": [
    "Replacing $U_i$ with $u(x_i)$ in this equation leads to\n",
    "$$\n",
    "    \\tau_i = \\frac{1}{h^2} (u(x_{i+1}) - 2 u(x_i) + u(x_{i-1})) - f(x_i).\n",
    "$$"
   ]
  },
  {
   "cell_type": "markdown",
   "metadata": {
    "slideshow": {
     "slide_type": "subslide"
    }
   },
   "source": [
    "In this form the LTE is not as useful but if we assume $u(x)$ is smooth we can repalce the $u(x_i)$ with their Taylor series counterparts, similar to what we did for finite differences.  The relevant Taylor series are\n",
    "$$\n",
    "    u(x_{i \\pm 1}) = u(x_i) \\pm u'(x_i) h + \\frac{1}{2} u''(x_i) h^2 \\pm \\frac{1}{6} u'''(x_i) h^3 + \\frac{1}{24} u^{(4)}(x_i) h^4 + \\mathcal{O}(h^5)\n",
    "$$"
   ]
  },
  {
   "cell_type": "markdown",
   "metadata": {
    "slideshow": {
     "slide_type": "subslide"
    }
   },
   "source": [
    "This leads to an expression for $\\tau_i$ of\n",
    "$$\\begin{aligned}\n",
    "    \\tau_i &= \\frac{1}{h^2} \\left [u''(x_i) h^2 + \\frac{1}{12} u^{(4)}(x_i) h^4 + \\mathcal{O}(h^5) \\right ] - f(x_i) \\\\\n",
    "    &= u''(x_i) + \\frac{1}{12} u^{(4)}(x_i) h^2 + \\mathcal{O}(h^4) - f(x_i) \\\\\n",
    "    &= \\frac{1}{12} u^{(4)}(x_i) h^2 + \\mathcal{O}(h^4)\n",
    "\\end{aligned}$$\n",
    "where we note that the true solution would satisfy $u''(x) = f(x)$.\n",
    "\n",
    "As long as $ u^{(4)}(x_i) $ remains finite (smooth) we know that $\\tau_i \\rightarrow 0$ as $h \\rightarrow 0$"
   ]
  },
  {
   "cell_type": "markdown",
   "metadata": {
    "slideshow": {
     "slide_type": "subslide"
    }
   },
   "source": [
    "Let $\\hat{U}$ be the $m\\times1$ column vector whose components are given by the exact function values\n",
    "$$\n",
    "\\hat{U}=\n",
    "\\begin{bmatrix}\n",
    "u(x_1 )\\\\\n",
    "u(x_2)\\\\\n",
    "\\vdots\\\\\n",
    "u(x_m ) \n",
    "\\end{bmatrix}.\n",
    "$$\n",
    "Then, the column vector $E$ of errors is re-defined as \n",
    "$$\n",
    "E=\n",
    "U-\n",
    "\\hat{U}.\n",
    "$$\n",
    "\n",
    "We can also write the vector of LTEs as\n",
    "$$\n",
    "    \\tau = A \\widehat{U} - F\n",
    "$$\n",
    "which implies\n",
    "$$\n",
    "    A\\widehat{U} = F + \\tau.\n",
    "$$\n",
    "Note that here it is the exact solution evaluated stencil, not the approximated function."
   ]
  },
  {
   "cell_type": "markdown",
   "metadata": {
    "slideshow": {
     "slide_type": "subslide"
    }
   },
   "source": [
    "### Global Error\n",
    "\n",
    "What we really want to bound is the global error $E$.  To relate the global error and LTE we can substitute $E = U - \\widehat{U}$ into our expression for the LTE to find\n",
    "$$\n",
    "    A E = -\\tau.\n",
    "$$\n",
    "This means that the global error is the solution to the system of equations we defined for the approximation except with $\\tau$ as the forcing function rather than $F$!"
   ]
  },
  {
   "cell_type": "markdown",
   "metadata": {
    "slideshow": {
     "slide_type": "subslide"
    }
   },
   "source": [
    "This also implies that the global error $E$ can be thought of as an approximation to similar BVP as we started with where\n",
    "$$\n",
    "    e''(x) = -\\tau(x) \\quad \\Omega = [0, 1] \\\\\n",
    "    e(0) = 0 \\quad e(1) = 0.\n",
    "$$"
   ]
  },
  {
   "cell_type": "markdown",
   "metadata": {
    "slideshow": {
     "slide_type": "subslide"
    }
   },
   "source": [
    "We can solve this ODE directly by integrating twice since to find to leading order\n",
    "$$\\begin{aligned}\n",
    "    e(x) &\\approx -\\frac{1}{12} h^2 u''(x) + \\frac{1}{12} h^2 (u''(0) + x (u''(1) - u''(0))) \\\\\n",
    "    &= \\mathcal{O}(h^2) \\rightarrow 0 \\quad \\text{as} \\quad h \\rightarrow 0.\n",
    "\\end{aligned}$$"
   ]
  },
  {
   "cell_type": "markdown",
   "metadata": {
    "slideshow": {
     "slide_type": "subslide"
    }
   },
   "source": [
    "### Stability\n",
    "\n",
    "We showed that the continuous analog to $E$, $e(x)$, does in fact go to zero as $h \\rightarrow 0$ but what about $E$?  Instead of showing something based on $e(x)$ let's look back at the original system of equations for the global error\n",
    "$$\n",
    "    A_{h} E_{h} = - \\tau_{h}\n",
    "$$\n",
    "where we now denote a particular realization of the system by the corresponding grid spacing $h$.  "
   ]
  },
  {
   "cell_type": "markdown",
   "metadata": {
    "slideshow": {
     "slide_type": "subslide"
    }
   },
   "source": [
    "If we could invert $A_{h}$ we could compute $E_{h}$ directly.  Assuming that we can and taking an appropriate norm we find\n",
    "$$\\begin{aligned}\n",
    "    E_{h} &= (A_{h})^{-1} \\tau_{h} \\\\\n",
    "    ||E_{h}|| &= ||(A_{h})^{-1} \\tau_{h}|| \\\\\n",
    "    & \\leq ||(A_{h})^{-1} ||~|| \\tau_{h}||\n",
    "\\end{aligned}$$"
   ]
  },
  {
   "cell_type": "markdown",
   "metadata": {
    "slideshow": {
     "slide_type": "subslide"
    }
   },
   "source": [
    "We know that $\\tau_{h} \\rightarrow 0$ as $h \\rightarrow 0$ already for our example so if we can bound the norm of the matrix $(A_{h})^{-1}$ by some constant $C$ for sufficiently small $h$ we can then write a bound on the global error of\n",
    "$$\n",
    "    ||E_{h}|| \\leq C ||\\tau_{h}||\n",
    "$$\n",
    "demonstrating that $E_{h} \\rightarrow 0 $ at least as fast as $\\tau_{h} \\rightarrow 0$."
   ]
  },
  {
   "cell_type": "markdown",
   "metadata": {
    "slideshow": {
     "slide_type": "subslide"
    }
   },
   "source": [
    "We can generalize this observation to all linear BVP problems by supposing that we have a finite difference approximation to a linear BVP of the form\n",
    "$$\n",
    "    A_{h} U_{h} = F_{h},\n",
    "$$\n",
    "where $h$ is the grid spacing.  "
   ]
  },
  {
   "cell_type": "markdown",
   "metadata": {
    "slideshow": {
     "slide_type": "subslide"
    }
   },
   "source": [
    "We say the approximation is *stable* if $(A_{h})^{-1}$ exists $\\forall h < h_0$ and there is a constant $C$ such that\n",
    "$$\n",
    "    ||(A_{h})^{-1}|| \\leq C \\quad \\forall h < h_0.\n",
    "$$"
   ]
  },
  {
   "cell_type": "markdown",
   "metadata": {
    "slideshow": {
     "slide_type": "subslide"
    }
   },
   "source": [
    "### Consistency\n",
    "\n",
    "A related and important idea for the discretization of any PDE is that it be consistent with the equation we are approximating.  If\n",
    "$$\n",
    "    ||\\tau_{h}|| \\rightarrow 0 \\quad \\text{as}\\quad  h \\rightarrow 0\n",
    "$$\n",
    "then we say an approximation is *consistent* with the differential equation."
   ]
  },
  {
   "cell_type": "markdown",
   "metadata": {
    "slideshow": {
     "slide_type": "subslide"
    }
   },
   "source": [
    "### Convergence\n",
    "\n",
    "We now have all the pieces to say something about the global error $E$.  A method is said to be *convergent* if\n",
    "$$\n",
    "    ||E_{h}|| \\rightarrow 0 \\quad \\text{as} \\quad h \\rightarrow 0.\n",
    "$$"
   ]
  },
  {
   "cell_type": "markdown",
   "metadata": {
    "slideshow": {
     "slide_type": "subslide"
    }
   },
   "source": [
    "If an approximation is both consistent ($||\\tau_{h}|| \\rightarrow 0$ as $h \\rightarrow 0$) and stable ($||E_{h}|| \\leq C ||\\tau_{h}||$) then the approximation is convergent."
   ]
  },
  {
   "cell_type": "markdown",
   "metadata": {
    "slideshow": {
     "slide_type": "subslide"
    }
   },
   "source": [
    "We have only derived this in the case of linear BVPs but in fact these criteria for convergence are often found to be true for any finite difference approximation (and beyond for that matter).  This statement of convergence can also often be strengthened to say\n",
    "$$\n",
    "    \\mathcal{O}(h^p) \\text{ LTE } + \\text{ stability } \\Rightarrow \\mathcal{O}(h^p) \\text{ global error}.\n",
    "$$"
   ]
  },
  {
   "cell_type": "markdown",
   "metadata": {
    "slideshow": {
     "slide_type": "subslide"
    }
   },
   "source": [
    "It turns out the most difficult part of this process is usually the statement regarding stability.  In the next section we will see for our simple example how we can prove stability in the 2-norm."
   ]
  },
  {
   "cell_type": "markdown",
   "metadata": {
    "slideshow": {
     "slide_type": "subslide"
    }
   },
   "source": [
    "### Stability in the 2-Norm\n",
    "\n",
    "Recalling our definition of stability, we need to show that for our previously defined $A$ that\n",
    "$$\n",
    "    (A_{h})^{-1}\n",
    "$$\n",
    "exists and\n",
    "$$\n",
    "    ||(A_{h})^{-1}|| \\leq C \\quad \\forall h < h_0\n",
    "$$\n",
    "for some $C$.  "
   ]
  },
  {
   "cell_type": "markdown",
   "metadata": {
    "slideshow": {
     "slide_type": "subslide"
    }
   },
   "source": [
    "How do we know that $(A_{h})^{-1}$ exists?"
   ]
  },
  {
   "cell_type": "markdown",
   "metadata": {
    "slideshow": {
     "slide_type": "subslide"
    }
   },
   "source": [
    "We can assume now that $A$ is in fact invertible but can we bound the norm of the inverse?  Recall that the 2-norm of a symmetric matrix is equal to its spectral radius,\n",
    "$$\n",
    "    ||A||_2 = \\rho(A) = \\max_{1\\leq p \\leq m} |\\lambda_p|.\n",
    "$$"
   ]
  },
  {
   "cell_type": "markdown",
   "metadata": {
    "slideshow": {
     "slide_type": "subslide"
    }
   },
   "source": [
    "Since the inverse of $A$ is also symmetric the eigenvalues of $A^{-1}$ are the inverses of the eigenvalues of $A$ implying that\n",
    "$$\n",
    "    ||A^{-1}||_2 = \\rho(A^{-1}) = \\max_{1\\leq p \\leq m} \\left| \\frac{1}{\\lambda_p} \\right| = \\frac{1}{\\min_{1\\leq p \\leq m} \\left| \\lambda_p \\right|}.\n",
    "$$"
   ]
  },
  {
   "cell_type": "markdown",
   "metadata": {
    "slideshow": {
     "slide_type": "subslide"
    }
   },
   "source": [
    "If none of the $\\lambda_p$ of $A$ are zero for sufficiently small $h$ and the rest are finite as $h \\rightarrow 0$ we have shown the stability of the approximation."
   ]
  },
  {
   "cell_type": "markdown",
   "metadata": {
    "slideshow": {
     "slide_type": "subslide"
    }
   },
   "source": [
    "The eigenvalues of the matrix $A$ from above can be written as\n",
    "$$\n",
    "    \\lambda_p = \\frac{2}{h^2} (\\cos(p \\pi h) - 1)\n",
    "$$\n",
    "with the corresponding eigenvectors $v^p$ \n",
    "$$\n",
    "    v^p_j = \\sin(p \\pi j h)\n",
    "$$\n",
    "as the $j$-th component with $j = 1, \\ldots, m$."
   ]
  },
  {
   "cell_type": "markdown",
   "metadata": {},
   "source": [
    "If we can show that the eigenvalues are away from the origin then we know $||A||_2$ will be bounded.  In this case the eigenvalues are negative so we need to show that they are always strictly less than zero.\n",
    "\n",
    "$$\n",
    "    \\lambda_p = \\frac{2}{h^2} (\\cos(p \\pi h) - 1)\n",
    "$$\n",
    "Use a Taylor series to get an idea of how this behaves with respect to $h$"
   ]
  },
  {
   "cell_type": "markdown",
   "metadata": {
    "slideshow": {
     "slide_type": "subslide"
    }
   },
   "source": [
    "---\n",
    "\n",
    "#### Exercise\n",
    "\n",
    "Check that $(\\lambda_p,v^p_j)$ are in fact the eigenpairs of the matrix $A$:\n",
    "\n"
   ]
  },
  {
   "cell_type": "markdown",
   "metadata": {
    "slideshow": {
     "slide_type": "subslide"
    }
   },
   "source": [
    "$$\\begin{aligned}\n",
    "    (A v^p)_j &= \\frac{1}{h^2} (v^p_{j-1} - 2 v^p_j + v^p_{j+1} ) \\\\\n",
    "    &= \\frac{1}{h^2} (\\sin(p \\pi (j-1) h) - 2 \\sin(p \\pi j h) + \\sin(p \\pi (j+1) h) ) \\\\\n",
    "    &= \\frac{1}{h^2} (\\sin(p \\pi j h) \\cos(p \\pi h) - 2 \\sin(p \\pi j h) + \\sin(p \\pi j h) \\cos(p \\pi h) \\\\\n",
    "    &= \\lambda_p v^p_j.\n",
    "\\end{aligned}$$"
   ]
  },
  {
   "cell_type": "markdown",
   "metadata": {
    "slideshow": {
     "slide_type": "subslide"
    }
   },
   "source": [
    "---\n",
    "\n",
    "#### Exercise\n",
    "\n",
    "Compute $\\min_{1\\leq p \\leq m} \\left| \\lambda_p \\right|$:\n",
    "\n",
    "$$\\begin{aligned}\n",
    "    \\lambda_1 &= \\frac{2}{h^2} (\\cos(p \\pi h) - 1) \\\\\n",
    "    &= \\frac{2}{h^2} \\left (-\\frac{1}{2} p^2 \\pi^2 h^2 + \\frac{1}{24} p^4 \\pi^4 h^4 + \\mathcal{O}(\\Delta^6) \\right ) \\\\\n",
    "    &= -p^2 \\pi^2 + \\mathcal{O}(h^2).\n",
    "\\end{aligned}$$\n",
    "\n",
    "---"
   ]
  },
  {
   "cell_type": "markdown",
   "metadata": {},
   "source": [
    "\n",
    "\n",
    "Note that this also gives us an error bound as this eigenvalue also will also lead to the largest eigenvalue of the inverse matrix.  We can therefore say\n",
    "$$\n",
    "    ||E^{h}||_2 \\leq ||(A^{h})^{-1}||_2 ||\\tau^{h}||_2 \\approx \\frac{1}{\\pi^2} ||\\tau^{h}||_2.\n",
    "$$"
   ]
  },
  {
   "cell_type": "markdown",
   "metadata": {
    "slideshow": {
     "slide_type": "slide"
    }
   },
   "source": [
    "### Stability in the $\\infty$-Norm\n",
    "\n",
    "The straight forward approach to show that $||E||_\\infty \\rightarrow 0$ as $h \\rightarrow 0$ would be to use the matrix bound\n",
    "$$\n",
    "    ||E||_\\infty \\leq \\frac{1}{\\sqrt{h}} ||E||_2.\n",
    "$$"
   ]
  },
  {
   "cell_type": "markdown",
   "metadata": {
    "slideshow": {
     "slide_type": "subslide"
    }
   },
   "source": [
    "For our example problem we showed that $||E||_2 = \\mathcal{O}(h^2)$ so this implies that we at least know that $||E||_\\infty = \\mathcal{O}(h^{3/2})$.  This is unfortunate as we expect $||E||_\\infty = \\mathcal{O}(h^{2})$ due to the discretization.  In order to alleviate this problem let's go back and consider our definition of stability but this time consider the $\\infty$-norm."
   ]
  },
  {
   "cell_type": "markdown",
   "metadata": {
    "slideshow": {
     "slide_type": "subslide"
    }
   },
   "source": [
    "Our matrix $A$ can be seen as a number of discrete approximations to *Green's functions* in each column.  This is more broadly applicable later on so we will spend some time reviewing the theory of Green's functions and apply them to our simple example problem."
   ]
  },
  {
   "cell_type": "code",
   "execution_count": null,
   "metadata": {},
   "outputs": [],
   "source": []
  },
  {
   "cell_type": "markdown",
   "metadata": {
    "slideshow": {
     "slide_type": "slide"
    }
   },
   "source": [
    "### Green's Functions\n",
    "\n",
    "Consider the BVP with Dirichlet boundary conditions\n",
    "$$\n",
    "    u''(x) = f(x) \\quad \\Omega = [0, 1] \\\\\n",
    "    u(0) = \\alpha \\quad u(1) = \\beta.\n",
    "$$\n",
    "Pick a fixed point $\\bar{x} \\in \\Omega$, the Green's function $G(x ; \\bar{x})$ solves the BVP above with\n",
    "$$\n",
    "    f(x) = \\delta(x - \\bar{x})\n",
    "$$\n",
    "and $\\alpha = \\beta = 0$.  You could think of this as the result of a steady-state problem of the heat equation with a point-loss of heat somewhere in the domain."
   ]
  },
  {
   "cell_type": "markdown",
   "metadata": {
    "slideshow": {
     "slide_type": "subslide"
    }
   },
   "source": [
    "To find the Green's function for our particular problem we can integrate just around the point $\\bar{x}$ near the $\\delta$ function source to find\n",
    "\n",
    "$$\\begin{aligned}\n",
    "    \\int^{\\bar{x} + \\epsilon}_{\\bar{x} - \\epsilon} u''(x) dx &= \\int^{\\bar{x} + \\epsilon}_{\\bar{x} - \\epsilon} \\delta(x - \\bar{x}) dx \\\\\n",
    "    u'(\\bar{x} + \\epsilon) - u'(\\bar{x} - \\epsilon) &= 1\n",
    "\\end{aligned}$$\n",
    "\n",
    "recalling that by definition the integral of the $\\delta$ function must be 1 if the interval of integration includes $\\bar{x}$.  We see that the jump in the derivative at $\\bar{x}$ from the left and right should be 1."
   ]
  },
  {
   "cell_type": "markdown",
   "metadata": {
    "slideshow": {
     "slide_type": "subslide"
    }
   },
   "source": [
    "After a bit of algebra we can solve for the Green's function for our model BVP as\n",
    "$$\n",
    "    G(x; \\bar{x}) = \\left \\{ \\begin{aligned}\n",
    "        (\\bar{x} - 1) x & & 0 \\leq x \\leq \\bar{x} \\\\\n",
    "        \\bar{x} (x - 1) & & \\bar{x} \\leq x \\leq 1\n",
    "    \\end{aligned} \\right . .\n",
    "$$"
   ]
  },
  {
   "cell_type": "markdown",
   "metadata": {
    "slideshow": {
     "slide_type": "subslide"
    }
   },
   "source": [
    "One imporant property of linear PDEs (or ODEs) in general is that they exhibit the principle of superposition.  The reason we care about this with Green's functions is that if we have a $f(x)$ composed of two $\\delta$ functions, it turns out the solution is the sum of the corresponding two Green's functions.  For instance if\n",
    "$$\n",
    "    f(x) = \\delta(x - 0.25) + 2 \\delta(x - 0.5)\n",
    "$$\n",
    "then\n",
    "$$\n",
    "    u(x) = G(x ; 0.25) + 2 G(x ; 0.5).\n",
    "$$"
   ]
  },
  {
   "cell_type": "markdown",
   "metadata": {
    "slideshow": {
     "slide_type": "subslide"
    }
   },
   "source": [
    "This of course can be extended to an infinite number of $\\delta$  functions so that\n",
    "$$\n",
    "    f(x) = \\int^1_0 f(\\bar{x}) \\delta(x - \\bar{x}) d\\bar{x}\n",
    "$$\n",
    "and therefore\n",
    "$$\n",
    "    u(x) = \\int^1_0 f(\\bar{x}) G(x ; \\bar{x}) d\\bar{x}.\n",
    "$$"
   ]
  },
  {
   "cell_type": "markdown",
   "metadata": {
    "slideshow": {
     "slide_type": "subslide"
    }
   },
   "source": [
    "To incorporate the effects of boundary conditions we can continue to add Green's functions to the solution to find the general solution of our original BVP as\n",
    "$$\n",
    "    u(x) = \\alpha (1 - x) + \\beta x + \\int^1_0 f(\\bar{x}) G(x ; \\bar{x}) d\\bar{x}.\n",
    "$$"
   ]
  },
  {
   "cell_type": "markdown",
   "metadata": {
    "run_control": {
     "marked": true
    },
    "slideshow": {
     "slide_type": "subslide"
    }
   },
   "source": [
    "So why did we do all this?  Well the Green's function solution representation above can be thought of as a linear operator on the function $f(x)$.  Written in perhaps more familiar terms we have\n",
    "$$\n",
    "    \\mathcal{A} u = f \\quad u = \\mathcal{A}^{-1} f.\n",
    "$$\n",
    "We see now that our linear operator $\\mathcal{A}$ may be the continuous analog to our discrete matrix $A$."
   ]
  },
  {
   "cell_type": "markdown",
   "metadata": {
    "slideshow": {
     "slide_type": "subslide"
    }
   },
   "source": [
    "To proceed we will modify our original matrix $A$ into a slightly different version based on the same discretization.  Instead of moving the boundary terms to the right-hand-side of the equation instead we will introduce two new \"unknowns\", called *ghost cells*, that will be placed at the edges of the grid.  We will label these $U_0$ and $U_{m+1}$.  In reality we know the value of these points, they are the boundary conditions!"
   ]
  },
  {
   "cell_type": "markdown",
   "metadata": {
    "slideshow": {
     "slide_type": "subslide"
    }
   },
   "source": [
    "The modified system then looks like\n",
    "$$\n",
    "    A = \\frac{1}{h^2} \\begin{bmatrix}\n",
    "        h^2 & 0  \\\\\n",
    "        1 & -2 & 1 \\\\\n",
    "          &  1 & -2 & 1 \\\\\n",
    "          &    & \\ddots & \\ddots & \\ddots \\\\\n",
    "          &    &        &      1 &     -2 & 1 \\\\\n",
    "          &    &        &        &      1 & -2 & 1 \\\\\n",
    "          &    &        &        &        &  0 & h^2\n",
    "    \\end{bmatrix} \\quad \\quad U = \\begin{bmatrix}\n",
    "        U_0 \\\\ U_1 \\\\ \\vdots \\\\ U_m \\\\ U_{m+1}\n",
    "    \\end{bmatrix} \\quad \\quad F = \\begin{bmatrix}\n",
    "        \\alpha \\\\ f(x_1) \\\\ \\vdots \\\\ f(x_{m}) \\\\ \\beta\n",
    "    \\end{bmatrix}  \n",
    "$$\n",
    "This has the advantage later that we can implement more general boundary conditions and it isolates the algebraic dependence on the boundary conditions.  The drawbacks are that the matrix no longer has as simple of a form as before."
   ]
  },
  {
   "cell_type": "markdown",
   "metadata": {
    "slideshow": {
     "slide_type": "subslide"
    }
   },
   "source": [
    "Let's finally turn to the form of the matrix $A^{-1}$.  Introducing a bit more notation, let $A_{j}$ denote the $j$th column and $A_{ij}$ denote the $i$th $j$th element of the matrix $A$.\n",
    "\n",
    "We know that \n",
    "$$\n",
    "    A A^{-1}_j = e_j\n",
    "$$\n",
    "where $e_j$ is the unit vector with $1$ in the $j$th row ($j$th column of the identity matrix).  "
   ]
  },
  {
   "cell_type": "markdown",
   "metadata": {
    "slideshow": {
     "slide_type": "subslide"
    }
   },
   "source": [
    "Note that the above system has some similarities to a discretized version of the Green's function problem.  Here $e_j$ represents the $\\delta$ function, $A$ the original operator, and $A^{-1}_j$ the effect that the $j$th $\\delta$ function (corresponding to the $\\bar{x}$) has on the full solution."
   ]
  },
  {
   "cell_type": "markdown",
   "metadata": {
    "slideshow": {
     "slide_type": "subslide"
    }
   },
   "source": [
    "It turns out that we can write down the inverse matrix directly using Green's functions (see LeVeque for the details) but we end up with\n",
    "$$\n",
    "    A^{-1}_{ij} = hG(x_i ; x_j) = \\left \\{ \\begin{aligned}\n",
    "        h (x_j - 1) x_i, & & i &= 1,2, \\ldots j \\\\\n",
    "        h (x_i - 1) x_j, & & i &= j, j+1, \\ldots , m\n",
    "    \\end{aligned} \\right . .\n",
    "$$"
   ]
  },
  {
   "cell_type": "markdown",
   "metadata": {
    "slideshow": {
     "slide_type": "subslide"
    }
   },
   "source": [
    "We can also write the effective right-hand side of our system as\n",
    "$$\n",
    "    F = \\alpha e_0 + \\beta e_{m+1} + \\sum^m_{j=1} f_j e_j\n",
    "$$\n",
    "and finally the solution as\n",
    "$$\n",
    "    U = \\alpha A^{-1}_{0} + \\beta A^{-1}_{m+1} + \\sum^m_{j=1} f_j A^{-1}_{j}\n",
    "$$\n",
    "whose elements are\n",
    "$$\n",
    "    U_i = \\alpha(1 - x_i) + \\beta x_i + h \\sum^m_{j=1} f_j G(x_i ; x_j).\n",
    "$$"
   ]
  },
  {
   "cell_type": "markdown",
   "metadata": {
    "slideshow": {
     "slide_type": "subslide"
    }
   },
   "source": [
    "Alright, where has all this gotten us?  Well, since we now know what the form of $A^{-1}$ is we may be able to get at the $\\infty$-norm of this matrix.  Recall that the $\\infty$-norm of a matrix (induced from the $\\infty$-norm) for a vector is\n",
    "$$\n",
    "    || C ||_\\infty = \\max_{0\\leq i \\leq m+1} \\sum^{m+1}_{j=0} |C_{ij}|\n",
    "$$"
   ]
  },
  {
   "cell_type": "markdown",
   "metadata": {
    "slideshow": {
     "slide_type": "subslide"
    }
   },
   "source": [
    "Note that due to the form of the matrix $A^{-1}$ the first row's sum is \n",
    "\n",
    "$$\n",
    "    \\sum^{m+1}_{j=0} A_{0j}^{-1} = 1\n",
    "$$\n",
    "\n",
    "as is the last rows $A^{-1}_{m+1}$.  We also know that for the other rows $A^{-1}_{i,0} < 1$ and $A^{-1}_{i,m+1} < 1$.  "
   ]
  },
  {
   "cell_type": "markdown",
   "metadata": {
    "slideshow": {
     "slide_type": "subslide"
    }
   },
   "source": [
    "The intermediate rows are also all bounded as\n",
    "$$\n",
    "    \\sum^{m+1}_{j=0} |A^{-1}_{ij}| \\leq 1 + 1 + m h < 3\n",
    "$$\n",
    "using the fact we know that\n",
    "$$\n",
    "    h = \\frac{1}{m+1}.\n",
    "$$\n",
    "\n",
    "This completes our stability wanderings as we can now say definitively that\n",
    "$$\n",
    "    ||A^{-1}||_\\infty < 3 \\quad \\forall h.\n",
    "$$"
   ]
  },
  {
   "cell_type": "markdown",
   "metadata": {},
   "source": [
    "## Neumann Boundary Conditions\n",
    "\n",
    "So far, we studied Dirichlet problems (values of $u(x)$ at boundaries). Now consider a **mixed problem**:  \n",
    "$$\n",
    "    u''(x) = f(x) \\quad \\Omega = [a, b] \\\\\n",
    "    u(a) = \\alpha \\quad u'(b) = \\sigma.\n",
    "$$\n",
    "\n",
    " We can incorporate other types of boundary conditions into our discretization using the modified version of our matrix.  Let's try to do this for our original problem but with one side having Neumann boundary conditions:\n",
    "\n",
    "Steps:  \n",
    "1. Grid: $x_j = a + jh$, $j=0,\\ldots,m+1$, $h=(b-a)/(m+1)$.  \n",
    "2. Grid function: $U_j \\approx u(x_j)$.  \n",
    "3. PDE at interior: $u''(x_j) = f(x_j)$, $j=1,\\ldots,m$.  \n",
    "4. Replace $u''$ with centered difference:  \n",
    "\n",
    "$$\n",
    "\\frac{1}{h^2}(U_{j-1} - 2U_j + U_{j+1}) = f(x_j).\n",
    "$$  \n",
    "\n",
    "Boundary conditions:  \n",
    "- Dirichlet at $x=a$: $U_{0} = \\alpha$.  \n",
    "- Neumann at $x=b$: handled in several ways.  \n"
   ]
  },
  {
   "cell_type": "markdown",
   "metadata": {},
   "source": [
    "\n",
    "---\n",
    "\n",
    "#### Exercise: Implementing Neumann Boundary Conditions in Finite Differences\n",
    "\n",
    "We want to solve the BVP\n",
    "\n",
    "$$\n",
    "u''(x) = f(x), \\quad x \\in [-1, 1],\n",
    "$$\n",
    "\n",
    "with **mixed boundary conditions**\n",
    "\n",
    "$$\n",
    "u(-1) = \\alpha, \n",
    "\\qquad \n",
    "u'(1) = \\sigma.\n",
    "$$\n",
    "\n",
    "You are given the **exact solution**\n",
    "\n",
    "$$\n",
    "u(x) = -(5+e)x - (2 + e + e^{-1}) + e^x.\n",
    "$$\n",
    "\n",
    "From this expression:\n",
    "\n",
    "* the forcing term is $f(x) = u''(x) = e^x$,\n",
    "* the left boundary value is $\\alpha = u(-1) = 3$,\n",
    "* the right boundary derivative is $\\sigma = u'(1) = -5$.\n",
    "\n"
   ]
  },
  {
   "cell_type": "markdown",
   "metadata": {},
   "source": [
    "\n",
    "---\n",
    "#### **Homework 2:**\n",
    "\n",
    "Copy this into your script\n",
    "\n",
    "```python\n",
    "import numpy as np\n",
    "import matplotlib.pyplot as plt\n",
    "\n",
    "# Exact solution and RHS\n",
    "u_exact = lambda x: -(5.0 + np.e) * x - (2.0 + np.e + np.exp(-1.0)) + np.exp(x)\n",
    "f = lambda x: np.exp(x)\n",
    "\n",
    "# Domain and boundary data\n",
    "a, b = -1.0, 1.0\n",
    "alpha = u_exact(a)   # Dirichlet at x=-1\n",
    "sigma = -5.0         # Neumann at x=1\n",
    "```\n"
   ]
  },
  {
   "cell_type": "markdown",
   "metadata": {},
   "source": [
    "\n",
    "---\n",
    "\n",
    "##### Task 1 — Implement solver functions\n",
    "\n",
    "Write **three Python functions**, one for each way of enforcing the Neumann boundary condition:\n",
    "\n",
    "1. **First-order one-sided** difference\n",
    "\n",
    "   $$\n",
    "   u'(1) \\approx \\frac{u_N - u_{N-1}}{h} = \\sigma\n",
    "   $$\n",
    "\n",
    "2. **Second-order one-sided** difference\n",
    "\n",
    "   $$\n",
    "   u'(1) \\approx \\frac{-3u_N + 4u_{N-1} - u_{N-2}}{2h} = \\sigma\n",
    "   $$\n",
    "\n",
    "3. **Second-order centered (ghost point)**\n",
    "   Introduce ghost point $u_{N+1}$ and use\n",
    "\n",
    "   $$\n",
    "   u'(1) \\approx \\frac{u_{N+1} - u_{N-1}}{2h} = \\sigma \n",
    "   \\quad \\Rightarrow \\quad u_{N+1} = u_{N-1} + 2h\\sigma\n",
    "   $$\n"
   ]
  },
  {
   "cell_type": "markdown",
   "metadata": {},
   "source": [
    "\n",
    "Function template:\n",
    "\n",
    "```python\n",
    "def solve_bvp_neumann(a, b, alpha, sigma, f, m, method=\"first_order\"):\n",
    "    \"\"\"\n",
    "    Solve u''(x) = f(x), x in [a,b],\n",
    "    with u(a)=alpha and u'(b)=sigma.\n",
    "\n",
    "    Parameters\n",
    "    ----------\n",
    "    a, b : floats\n",
    "        Interval boundaries\n",
    "    alpha : float\n",
    "        Dirichlet boundary value at x=a\n",
    "    sigma : float\n",
    "        Neumann boundary value at x=b\n",
    "    f : callable\n",
    "        Function f(x) on RHS\n",
    "    m : int\n",
    "        Number of interior points\n",
    "    method : str\n",
    "        \"first_order\", \"one_sided_2nd\", or \"centered_2nd\"\n",
    "\n",
    "    Returns\n",
    "    -------\n",
    "    x_bc : ndarray\n",
    "        Grid points including boundaries\n",
    "    U : ndarray\n",
    "        Approximate solution at all grid points\n",
    "    \"\"\"\n",
    "    # Step 1: build grid\n",
    "    # x_bc = np.linspace(a, b, m+2)\n",
    "    # x = x_bc[1:-1]\n",
    "    # h = (b-a)/(m+1)\n",
    "\n",
    "    # Step 2: build matrix A (m x m) for finite differences\n",
    "\n",
    "    # Step 3: build RHS vector b_vec = f(x)\n",
    "\n",
    "    # Step 4: enforce u(a)=alpha (Dirichlet)\n",
    "\n",
    "    # Step 5: enforce u'(b)=sigma depending on `method`\n",
    "\n",
    "    # Step 6: solve system, reconstruct full solution\n",
    "\n",
    "    return x_bc, U\n",
    "```\n",
    "\n",
    "👉 Each method modifies the **last interior equation** differently.\n"
   ]
  },
  {
   "cell_type": "markdown",
   "metadata": {},
   "source": [
    "\n",
    "---\n",
    "\n",
    "##### Task 2 — Test your solver\n",
    "\n",
    "Use:\n",
    "\n",
    "```python\n",
    "m = 10\n",
    "for method in [\"first_order\", \"one_sided_2nd\", \"centered_2nd\"]:\n",
    "    x_bc, U = solve_bvp_neumann(a, b, alpha, sigma, f, m, method)\n",
    "    plt.plot(x_bc, U, 'o-', label=f\"{method}\")\n",
    "plt.plot(x_bc, u_exact(x_bc), 'k--', label=\"Exact\")\n",
    "plt.legend()\n",
    "plt.title(\"Neumann BVP with different boundary treatments\")\n",
    "plt.show()\n",
    "```\n",
    "\n",
    "You should see that all three methods produce a solution close to the exact one.\n"
   ]
  },
  {
   "cell_type": "markdown",
   "metadata": {},
   "source": [
    "\n",
    "---\n",
    "\n",
    "##### Task 3 — Convergence study\n",
    "\n",
    "1. Choose a sequence of grid sizes:\n",
    "\n",
    "   ```python\n",
    "   m_values = [10, 20, 40, 80, 160]\n",
    "   ```\n",
    "2. For each method and each `m`:\n",
    "\n",
    "   * compute solution with `solve_bvp_neumann`,\n",
    "   * compute step size $h = (b-a)/(m+1)$,\n",
    "   * compute error:\n",
    "\n",
    "     ```python\n",
    "     error = np.max(np.abs(U - u_exact(x_bc)))\n",
    "     ```\n",
    "3. Compute the **observed order of accuracy** between successive grid sizes:\n",
    "\n",
    "   $$\n",
    "   p = \\frac{\\log(E_k / E_{k+1})}{\\log(h_k / h_{k+1})}.\n",
    "   $$\n",
    "4. Make a **table** with columns: `m, h, error, p`.\n",
    "5. Plot **error vs h** in log-log scale for each method.\n",
    "\n",
    "---"
   ]
  },
  {
   "cell_type": "markdown",
   "metadata": {
    "slideshow": {
     "slide_type": "slide"
    }
   },
   "source": [
    "## Existance and Uniqueness\n",
    "\n",
    "One question that should be asked before embarking upon a numerical solution to any equation is whether the original is *well-posed*.  Well-posedness is defined as a problem that has a unique solution and depends continuously on the input data (inital condition and boundary conditions are examples)."
   ]
  },
  {
   "cell_type": "markdown",
   "metadata": {
    "slideshow": {
     "slide_type": "subslide"
    }
   },
   "source": [
    "Consider the BVP we have been exploring but now add strictly Neumann boundary conditions\n",
    "$$\n",
    "    u''(x) = f(x) \\quad \\Omega = [0, 1] \\\\\n",
    "    u'(0) = \\sigma_0 \\quad u'(1) = \\sigma_1.\n",
    "$$\n",
    "We can easily discretize this using one of our methods developed above but we run into problems."
   ]
  },
  {
   "cell_type": "code",
   "execution_count": 44,
   "metadata": {
    "slideshow": {
     "slide_type": "skip"
    }
   },
   "outputs": [
    {
     "name": "stdout",
     "output_type": "stream",
     "text": [
      "Singular matrix\n"
     ]
    },
    {
     "name": "stderr",
     "output_type": "stream",
     "text": [
      "Traceback (most recent call last):\n",
      "  File \"/tmp/ipykernel_7276/1496036973.py\", line 35, in <module>\n",
      "    U = numpy.linalg.solve(A, b)\n",
      "        ^^^^^^^^^^^^^^^^^^^^^^^^\n",
      "  File \"/home/victor/anaconda3/envs/numerics/lib/python3.11/site-packages/numpy/linalg/linalg.py\", line 409, in solve\n",
      "    r = gufunc(a, b, signature=signature, extobj=extobj)\n",
      "        ^^^^^^^^^^^^^^^^^^^^^^^^^^^^^^^^^^^^^^^^^^^^^^^^\n",
      "  File \"/home/victor/anaconda3/envs/numerics/lib/python3.11/site-packages/numpy/linalg/linalg.py\", line 112, in _raise_linalgerror_singular\n",
      "    raise LinAlgError(\"Singular matrix\")\n",
      "numpy.linalg.LinAlgError: Singular matrix\n"
     ]
    }
   ],
   "source": [
    "# Problem setup\n",
    "a = -1.0\n",
    "b = 1.0\n",
    "alpha = 3.0\n",
    "sigma = -5.0\n",
    "f = lambda x: numpy.exp(x)\n",
    "\n",
    "# Descretization\n",
    "m = 50\n",
    "x_bc = numpy.linspace(a, b, m + 2)\n",
    "x = x_bc[1:-1]\n",
    "h = (b - a) / (m + 1)\n",
    "\n",
    "# Construct matrix A\n",
    "A = numpy.zeros((m + 2, m + 2))\n",
    "diagonal = numpy.ones(m + 2) / h**2\n",
    "A += numpy.diag(diagonal * -2.0, 0)\n",
    "A += numpy.diag(diagonal[:-1], 1)\n",
    "A += numpy.diag(diagonal[:-1], -1)\n",
    "\n",
    "# Construct RHS\n",
    "b = f(x_bc)\n",
    "\n",
    "# Boundary conditions\n",
    "A[0, 0] = -1.0 / h\n",
    "A[0, 1] = 1.0 / h\n",
    "A[-1, -1] = -1.0 / (h)\n",
    "A[-1, -2] =  1.0 / (h)\n",
    "\n",
    "b[0] = h / 2.0 * f(x_bc[0]) - alpha\n",
    "b[-1] = h / 2.0 * f(x_bc[-1]) - sigma\n",
    "\n",
    "# Solve system\n",
    "try:\n",
    "    U = numpy.linalg.solve(A, b)\n",
    "except numpy.linalg.LinAlgError as e:\n",
    "    print(e)\n",
    "    import traceback\n",
    "    traceback.print_exc()"
   ]
  },
  {
   "cell_type": "markdown",
   "metadata": {
    "slideshow": {
     "slide_type": "subslide"
    }
   },
   "source": [
    "We can see why $A$ is singular, the constant vector $e = [1, 1, 1, 1, 1,\\ldots, 1]^T$ is in fact in the null-space of $A$.  Our numerical method has actually demonstrated this problem is *ill-posed*!  Indeed, since the boundary conditions are only on the derivatives there are an infinite number of solutions to the BVP (this could also occur if there were no solutions)."
   ]
  },
  {
   "cell_type": "markdown",
   "metadata": {
    "slideshow": {
     "slide_type": "subslide"
    }
   },
   "source": [
    "Another way to understand why this is the case is to examine this problem again as the steady-state problem originating with the heat equation.  Consider the heat equation with $\\sigma_0 = \\sigma_1 = 0$ and $f(x) = 0$.  This setup would preserve any heat in the rod as none can escape through the ends of the rod.  In fact, the solution to the steady-state problem would simply to redistribute the heat in the rod evenly across the rod based on the initial condition.  We then would have a solution\n",
    "$$\n",
    "    u(x) = \\int^1_0 u^0(x) dx = C.\n",
    "$$"
   ]
  },
  {
   "cell_type": "markdown",
   "metadata": {
    "slideshow": {
     "slide_type": "subslide"
    }
   },
   "source": [
    "The problem comes from the fact that the steady-state problem does not know about this bit of information by itself.  This means that the BVP as it stands could pick out any $C$ and it would be a solution."
   ]
  },
  {
   "cell_type": "markdown",
   "metadata": {
    "slideshow": {
     "slide_type": "subslide"
    }
   },
   "source": [
    "The solution is similar if we had the same setup except $f(x) \\neq 0$.  Now we are either adding or subtracting heat in the rod.  In this case there may not be a steady state at all!  You can actually show that if the addition and subtraction of heat exactly cancels we may in fact have a solution if\n",
    "$$\n",
    "    \\int^1_0 f(x) dx = 0\n",
    "$$\n",
    "which leads again to an infinite number of solutions."
   ]
  },
  {
   "cell_type": "markdown",
   "metadata": {},
   "source": [
    "## Higher Order Methods  \n",
    "\n",
    "So far: second-order schemes. Now: methods for **fourth-order accuracy**.  \n",
    "\n",
    "Why?  \n",
    "- Higher accuracy for same grid size.  \n",
    "- Better convergence without refining too much.  \n"
   ]
  },
  {
   "cell_type": "markdown",
   "metadata": {},
   "source": [
    "### Fourth order finite differences \n",
    "\n",
    "One approach is to replace the second-order finite difference approximation of the second-order derivative with a fourth-order finite difference approximation:\n",
    "$$\n",
    "u''(x_j) \\approx\n",
    "\\frac{1}{12h^2}(-U_{j-2} + 16U_{j-1} - 30U_j + 16U_{j+1} - U_{j+2}).\n",
    "$$\n",
    "To implement this finite difference approximation on our standard, uniform grid $x_j = jh$ for $j = 0, 1, \\dots , m, m+1$ with $h = (b - a)/(m + 1)$, we find no problem for $j = 2, · · · , m - 1$. However, we find that we cannot apply this finite difference approximation for $j = 0, 1, m$ and $m + 1$. For Dirichlet boundary conditions, we can set the values of $U_0$ and $U_{m+1}$, but we still do not know how to treat $U_1$ and $U_m$.\n",
    "\n",
    "For $U_1$, we must use a fourth-order finite difference approximation that uses $U_0$, $U_1$ and values at grid points to the right of $x_1$. We can derive the following finite difference approximation:\n",
    "$$\n",
    "u''(x_1) \\approx \\frac{1}{12h^2}(10U_0 - 15U_1 - 4U_2 + 14U_3 - 6U_4 + U_5 ).\n",
    "$$\n",
    "\n",
    "Similarly, for $U_m$, we must use a fourth-order finite difference approximation of the form\n",
    "$$\n",
    "u''(x_m) \\approx \\frac{1}{12h^2}(U_{m-4} - 6U_{m-3} + 14U_{m-2} - 4U_{m-1} - 15U_m + 10U_{m+1}).\n",
    "$$\n",
    "\n",
    "Using this finite difference method, we obtain a nearly pentadiagonal matrix except for the first and last rows. The resulting linear system of equations can be solved efficiently in $O(m)$ operations.\n",
    "\n",
    "\n"
   ]
  },
  {
   "cell_type": "markdown",
   "metadata": {},
   "source": [
    "\n",
    "### Extrapolation Methods\n",
    "\n",
    "Another method to obtain fourth-order accuracy is to use extrapolation methods. Consider our second-order finite difference method. Suppose we compute the solution on a grid with mesh spacing h which we denote by $U_j \\approx u(x_j) = u(jh)$. Now, suppose we compute the solution on\n",
    "a finer grid with mesh spacing $h/2$ which we denote $Vj \\approx u(jh/2)$. We know that because the method uses centered, second-order finite difference approximation, the odd powers of $h$ in the error vanish identically so that\n",
    "$$U_j = u(x_j) + C_2 h^2 + C_4 h^4 + C_6 h^6 + \\dots$$\n",
    "The coefficients $C_2$, $C_4$ , $C_6$ and so on are independent of $h$. Similarly,\n",
    "$$\n",
    "\\begin{aligned}\n",
    "V_{2j} &= u(x_j) + C_2 \\left(\\frac{h}{2}\\right)^2 + C_4 \\left(\\frac{h}{2}\\right)^4 + C_6 \\left(\\frac{h}{2}\\right)^6 + \\dots \\\\\n",
    "&= u(x_j) + \\frac{1}{4} C_2 h^2 + \\frac{1}{16} C_4 h^4 + \\frac{1}{64} C_6 h^6 + \\dots\n",
    "\\end{aligned}\n",
    "$$\n",
    "\n",
    "Thus, if we consider the linear combination\n",
    "$$\\tilde{U}_j = aU_j + bV_{2j}$$\n",
    "we find that\n",
    "$$\n",
    "\\begin{aligned}\n",
    "\\tilde{U}_j &=& aU_j + bV_{2j}\\\\[2ex]\n",
    " &=& au(x_j) + aC_2 h^2 + bu(x_j) + b\\frac{1}{4}C_2 h^2 + O(h^4)\\\\[2ex]\n",
    "& =&  (a + b)u(xj ) + (a + \\frac{1}{4}b)C_2h^2 + O(h^4).\n",
    "\\end{aligned}\n",
    "$$\n",
    "Observe that if we set $a+b=1$ and $a + b/4 = 0$\n",
    "we find that $a = -1/3$ and $b = 4/3$ and so\n",
    "$$\\tilde{U}_j = u(x_j) + O(h^4).$$\n",
    "Thus, if we compute the solution on the grid with mesh width $h$ and obtain $U_j$ and then compute the solution on the grid with mesh width $h/2$ and obtain $V_j$, then the quantity\n",
    "$$\n",
    "\\tilde{U}_j = \\frac{1}{3}(4V_{2j} - U_j )\n",
    "$$\n",
    "gives a fourth-order accurate solution on the grid with mesh width $h$.\n",
    "\n",
    "\n",
    "This extrapolation method requires solving the problem numerically twice. While this may seem inefficient for the problems we have studied thus far, it is a useful approach when implementing a fourth-order finite difference approximation is difficult or impractical.\n",
    "\n"
   ]
  },
  {
   "cell_type": "markdown",
   "metadata": {},
   "source": [
    "### Deferred corrections\n",
    "\n",
    "Another approach involves solving the problem twice, but on the same grid. Suppose we implement a second-order method that leads to the linear system $AU = F$. For this problem, we have found already that the error vector $\\boldsymbol{E}$ satisfies\n",
    "$$A\\boldsymbol{E} = -\\boldsymbol{\\tau}.$$\n",
    "Now, if we knew $\\boldsymbol{\\tau}$ explicitly, we could solve this linear system of equations for the error and\n",
    "thus obtain the exact solution by computing $\\boldsymbol{U} - \\boldsymbol{E}$. However, we do not know the truncation\n",
    "error vector explicitly. We do know that\n",
    "$$\n",
    "\\tau_j=\\frac{1}{12}h^2 u^{(iv)}(x_j) + O(h^4).\n",
    "$$\n",
    "Using our computed solution, we can approximate $u^{(iv)}(x_j)$ by using a finite difference approximation. For the specific case in which $u''= f $, we have $u^{(iv)} = f''$, so we can compute analytically or approximate instead the second-order derivative of $f$. In fact, we can combine these two problems into one and solve instead the linear system $A\\boldsymbol{U} = \\boldsymbol{\\tilde{F}}$ with\n",
    "$$\n",
    "\\tilde{F}_j = f(x_j) +\\frac{1}{12}h^2 f''(x_j).\n",
    "$$\n",
    "The result will be an approximation that is fourth-order accurate. This method is called the method of *deferred corrections*.\n"
   ]
  },
  {
   "cell_type": "markdown",
   "metadata": {
    "slideshow": {
     "slide_type": "slide"
    }
   },
   "source": [
    "## General Linear Second Order Discretization\n",
    "\n",
    "Let's now describe a method for solving the equation\n",
    "$$\n",
    "    a(x) u''(x) + b(x) u'(x) + c(x) u(x) = f(x) \\quad \\Omega = [a, b] \\\\\n",
    "    u(a) = \\alpha \\quad u(b) = \\beta.\n",
    "$$"
   ]
  },
  {
   "cell_type": "markdown",
   "metadata": {
    "slideshow": {
     "slide_type": "subslide"
    }
   },
   "source": [
    "Try discretizing this using second order finite differences and write the system for\n",
    "$$\n",
    "    a(x) u''(x) + b(x) u'(x) + c(x) u(x) = f(x) \\quad \\Omega = [a, b] \\\\\n",
    "    u(a) = \\alpha \\quad u(b) = \\beta.\n",
    "$$"
   ]
  },
  {
   "cell_type": "markdown",
   "metadata": {
    "slideshow": {
     "slide_type": "subslide"
    }
   },
   "source": [
    "The general, second order finite difference approximation to the above equation can be written as\n",
    "$$\n",
    "    a_i \\frac{U_{i+1} - 2 U_i + U_{i-1}}{h^2} + b_i \\frac{U_{i+1} - U_{i-1}}{2 h} + c_i U_i = f_i\n",
    "$$\n",
    "leading to the matrix entries\n",
    "$$\n",
    "    A_{i,i} = -\\frac{2 a_i}{h^2} + c_i\n",
    "$$\n",
    "on the diagonal and\n",
    "$$\n",
    "    A_{i,i\\pm1} = \\frac{a_i}{h^2} \\pm \\frac{b_i}{2 h}\n",
    "$$\n",
    "on the sub-diagonals.  We can take of the boundary conditions by either using the ghost-points approach or by incorporating them into the right hand side evaluation."
   ]
  },
  {
   "cell_type": "markdown",
   "metadata": {
    "slideshow": {
     "slide_type": "subslide"
    }
   },
   "source": [
    "### Example\n",
    "\n",
    "Consider the steady-state heat conduction problem with a variable $\\kappa(x)$ so that\n",
    "$$\n",
    "    (\\kappa(x) u'(x))' = f(x), \\quad \\Omega = [0, 1] \\\\\n",
    "    u(0) = \\alpha \\quad u(1) = \\beta\n",
    "$$"
   ]
  },
  {
   "cell_type": "markdown",
   "metadata": {
    "slideshow": {
     "slide_type": "subslide"
    }
   },
   "source": [
    "By the chain rule we know\n",
    "$$\n",
    "    \\kappa(x) u''(x) + \\kappa'(x) u'(x) = f(x).\n",
    "$$"
   ]
  },
  {
   "cell_type": "markdown",
   "metadata": {
    "slideshow": {
     "slide_type": "subslide"
    }
   },
   "source": [
    "It turns out that in this case this approach is not really the best approach to solving the problem.  In many cases it is best to discretize the original form of the physics rather than a perhaps equivalent formulation.  To demonstrate this let's try to construct a system to solve the original equations\n",
    "$$\n",
    "    (\\kappa(x) u'(x))' = f(x).\n",
    "$$"
   ]
  },
  {
   "cell_type": "markdown",
   "metadata": {
    "slideshow": {
     "slide_type": "subslide"
    }
   },
   "source": [
    "First we will approximate the expression\n",
    "$$\n",
    "    \\kappa(x) u'(x)\n",
    "$$\n",
    "but at the points half-way in between the points $x_i$, i.e. $x_{i + 1/2}$.  "
   ]
  },
  {
   "cell_type": "markdown",
   "metadata": {
    "slideshow": {
     "slide_type": "subslide"
    }
   },
   "source": [
    "We also will take this approximation effectively to be $h / 2$ and find\n",
    "$$\n",
    "    \\kappa(x_{i+1/2}) u'(x_{i+1/2}) = \\kappa_{i+1/2} \\frac{U_{i+1} - U_i}{h}.\n",
    "$$"
   ]
  },
  {
   "cell_type": "markdown",
   "metadata": {
    "slideshow": {
     "slide_type": "subslide"
    }
   },
   "source": [
    "Now taking this approximation and differencing it with the same difference centered at $x_{i-1/2}$ leads to\n",
    "$$\\begin{aligned}\n",
    "    (\\kappa(x_i) u'(x_i))' &= \\frac{1}{h} \\left [ \\kappa_{i+1/2} \\frac{U_{i+1} - U_i}{h} - \\kappa_{i-1/2} \\frac{U_{i} - U_{i-1}}{h} \\right ] \\\\\n",
    "    &= \\frac{\\kappa_{i+1/2}U_{i+1} - \\kappa_{i+1/2} U_i -\\kappa_{i-1/2} U_{i} + \\kappa_{i-1/2} U_{i-1}}{h^2} \\\\ \n",
    "    &= \\frac{\\kappa_{i+1/2}U_{i+1} - (\\kappa_{i+1/2} - \\kappa_{i-1/2}) U_i + \\kappa_{i-1/2} U_{i-1}}{h^2}\n",
    "\\end{aligned}$$"
   ]
  },
  {
   "cell_type": "markdown",
   "metadata": {
    "slideshow": {
     "slide_type": "subslide"
    }
   },
   "source": [
    "Note that these formulations are actually equivalent to $\\mathcal{O}(h^2)$.  The matrix entries are\n",
    "$$\\begin{aligned}\n",
    "    A_{i,i} = -\\frac{\\kappa_{i+1/2} - \\kappa_{i-1/2}}{h^2} \\\\\n",
    "    A_{i,i \\pm 1} = \\frac{\\kappa_{i\\pm 1/2}}{h^2}.\n",
    "\\end{aligned}$$\n",
    "Note that this latter discretization is symmetric.  This will have consequences as to how well or quickly we can solve the resulting system of linear equations."
   ]
  },
  {
   "cell_type": "markdown",
   "metadata": {
    "slideshow": {
     "slide_type": "slide"
    }
   },
   "source": [
    "## Non-Linear Equations\n",
    "\n",
    "Our model problem, Poisson's equation, is a linear BVP.  How would we approach a non-linear problem?  As a new model problem let's consider the non-linear pendulum problem.  The physical system is a mass $m$ connected to a rigid, massless rod of length $L$ which is allowed to swing about a point.  The angle $\\theta(t)$ is taken with reference to the stable at-rest point with the mass hanging downwards.  "
   ]
  },
  {
   "cell_type": "markdown",
   "metadata": {
    "slideshow": {
     "slide_type": "subslide"
    }
   },
   "source": [
    "This system can be described by\n",
    "$$\n",
    "    \\theta''(t) = \\frac{-g}{L} \\sin(\\theta(t)).\n",
    "$$\n",
    "We will take $\\frac{g}{L} = 1$ for convenience."
   ]
  },
  {
   "cell_type": "markdown",
   "metadata": {
    "slideshow": {
     "slide_type": "subslide"
    }
   },
   "source": [
    "Looking at the Taylor series of $\\sin$ we can approximate this equation for small $\\theta$ as\n",
    "$$\n",
    "    \\sin(\\theta) \\approx \\theta - \\frac{\\theta^3}{6} + \\mathcal{O}(\\theta^5)\n",
    "$$\n",
    "so that\n",
    "$$\n",
    "    \\theta'' = -\\theta.\n",
    "$$"
   ]
  },
  {
   "cell_type": "markdown",
   "metadata": {
    "slideshow": {
     "slide_type": "subslide"
    }
   },
   "source": [
    "We know that this equation has solutions of the form\n",
    "$$\n",
    "    \\theta(t) = C_1 \\cos t + C_2 \\sin t.\n",
    "$$\n",
    "We clearly need two boundary conditions to uniquely specify the system which can be a bit awkward given that we usually specify these at two points in the spatial domain.  Since we are in time we can specify the initial position of the pendulum $\\theta(0) = \\alpha$ however the second condition would specify where the pendulum would be sometime in the future, say $\\theta(T) = \\beta$.  We could also specify another initial condition such as the angular velocity $\\theta'(0) = \\sigma$."
   ]
  },
  {
   "cell_type": "code",
   "execution_count": 45,
   "metadata": {
    "slideshow": {
     "slide_type": "skip"
    }
   },
   "outputs": [
    {
     "data": {
      "image/png": "[encoded data removed]",
      "text/plain": [
       "<Figure size 640x480 with 1 Axes>"
      ]
     },
     "metadata": {},
     "output_type": "display_data"
    }
   ],
   "source": [
    "# Simple linear pendulum solutions\n",
    "def linear_pendulum(t, alpha=0.01, beta=0.01, T=1.0):\n",
    "    C_1 = alpha\n",
    "    C_2 = (beta - alpha * numpy.cos(T)) / numpy.sin(T)\n",
    "    return C_1 * numpy.cos(t) + C_2 * numpy.sin(t)\n",
    "\n",
    "\n",
    "alpha = [0.1, -0.1, -1.0]\n",
    "beta = [0.1, 0.1, 0.0]\n",
    "T = [1.0, 1.0, 1.0]\n",
    "t = numpy.linspace(0, 10.0, 100)\n",
    "fig = plt.figure()\n",
    "axes = fig.add_subplot(1, 1, 1)\n",
    "for i in range(len(alpha)):\n",
    "    axes.plot(t, linear_pendulum(t, alpha[i], beta[i], T[i]))\n",
    "axes.set_title(\"Solutions to the Linear Pendulum Problem\")\n",
    "axes.set_xlabel(\"t\")\n",
    "axes.set_ylabel(\"$\\theta$\")\n",
    "\n",
    "plt.show()"
   ]
  },
  {
   "cell_type": "markdown",
   "metadata": {
    "slideshow": {
     "slide_type": "subslide"
    }
   },
   "source": [
    "But how would we go about handling the fully non-linear problem?  First let's discretize using our approach to date with the second order, centered second derivative finite difference approximation to find\n",
    "$$\n",
    "    \\frac{1}{\\Delta t^2}(\\theta_{i+1} - 2 \\theta_i + \\theta_{i-1}) + \\sin (\\theta_i) = 0.\n",
    "$$"
   ]
  },
  {
   "cell_type": "markdown",
   "metadata": {
    "slideshow": {
     "slide_type": "subslide"
    }
   },
   "source": [
    "The most common approach to solving a non-linear BVP like this (and many non-linear PDEs for that matter) is to use Newton's method.  Recall that if we have a non-linear function $G(\\theta)$ and we want to find $\\theta$ such that\n",
    "$$\n",
    "    G(\\theta) = 0\n",
    "$$\n",
    "we can expand $G(\\theta)$ in a Taylor series to find\n",
    "$$\n",
    "    G(\\theta^{[k+1]}) = G(\\theta^{[k]}) + G'(\\theta^{[k]}) (\\theta^{[k+1]} - \\theta^{[k]}) + \\mathcal{O}((\\theta^{[k+1]} - \\theta^{[k]})^2)\n",
    "$$"
   ]
  },
  {
   "cell_type": "markdown",
   "metadata": {
    "slideshow": {
     "slide_type": "subslide"
    }
   },
   "source": [
    "If we want $G(\\theta^{[k+1]}) = 0$ we can set this in the expression above (this is also known as a fixed point iteration) and dropping the higher order terms we can solve for $\\theta^{[k+1]}$ to find\n",
    "$$\\begin{aligned}\n",
    "    0 &= G(\\theta^{[k]}) + G'(\\theta^{[k]}) (\\theta^{[k+1]} - \\theta^{[k]} )\\\\\n",
    "    G'(\\theta^{[k]}) \\theta^{[k+1]} &= G'(\\theta^{[k]}) \\theta^{[k]} - G(\\theta^{[k]})\n",
    "\\end{aligned}$$"
   ]
  },
  {
   "cell_type": "markdown",
   "metadata": {
    "slideshow": {
     "slide_type": "subslide"
    }
   },
   "source": [
    "At this point we need to be careful, if we have a system of equations we cannot simply divide through by $G'(\\theta^{[k]})$ (which is now a matrix) to find our new value $\\theta^{[k+1]}$.  Instead we need to invert the matrix $G'(\\theta^{[k]})$.  Another way to write this is as an update to the value $\\theta^{[k+1]}$ where\n",
    "$$\n",
    "    \\theta^{[k+1]} = \\theta^{[k]} + \\delta^{[k]}\n",
    "$$\n",
    "where\n",
    "$$\n",
    "    J(\\theta^{[k]}) \\delta^{[k]} = -G(\\theta^{[k]}).\n",
    "$$"
   ]
  },
  {
   "cell_type": "markdown",
   "metadata": {
    "slideshow": {
     "slide_type": "subslide"
    }
   },
   "source": [
    "Here we have introduced notation for the **Jacobian matrix** whose elements are\n",
    "$$\n",
    "    J_{ij}(\\theta) = \\frac{\\partial}{\\partial \\theta_j} G_i(\\theta).\n",
    "$$"
   ]
  },
  {
   "cell_type": "markdown",
   "metadata": {
    "slideshow": {
     "slide_type": "subslide"
    }
   },
   "source": [
    "So how do we compute the Jacobian matrix?  Since we know the system of equations in this case we can write down in general what the entries of $J$ are.\n",
    "$$\n",
    "    \\frac{1}{\\Delta t^2}(\\theta_{i+1} - 2 \\theta_i + \\theta_{i-1}) + \\sin (\\theta_i) = 0.\n",
    "$$"
   ]
  },
  {
   "cell_type": "markdown",
   "metadata": {
    "slideshow": {
     "slide_type": "subslide"
    }
   },
   "source": [
    "$$\n",
    "    J_{ij}(\\theta) = \\left \\{ \\begin{aligned}\n",
    "        &\\frac{1}{\\Delta t^2} & & j = i - 1, j = i + 1 \\\\\n",
    "        -&\\frac{2}{\\Delta t^2} + \\cos(\\theta_i) & & j = i \\\\\n",
    "        &0 & & \\text{otherwise}\n",
    "    \\end{aligned} \\right .\n",
    "$$"
   ]
  },
  {
   "cell_type": "markdown",
   "metadata": {
    "slideshow": {
     "slide_type": "subslide"
    }
   },
   "source": [
    "With the Jacobian in hand we can solve the BVP by iterating until some stopping criteria is met (we have converged to our satisfaction)."
   ]
  },
  {
   "cell_type": "markdown",
   "metadata": {
    "slideshow": {
     "slide_type": "subslide"
    }
   },
   "source": [
    "### Example\n",
    "\n",
    "Solve the linear and non-linear pendulum problem with $T=2\\pi$, $\\alpha = \\beta = 0.7$.\n",
    " - Does the linear equation have a unique solution\n",
    " - Do you expect the original problem to have a unique solution (i.e. does the non-linear problem have a unique solution)?"
   ]
  },
  {
   "cell_type": "code",
   "execution_count": 46,
   "metadata": {
    "slideshow": {
     "slide_type": "skip"
    }
   },
   "outputs": [
    {
     "name": "stdout",
     "output_type": "stream",
     "text": [
      " (1) Step size: 0.25127822620106616\n",
      " (2) Step size: 0.0006452832859492562\n",
      " (3) Step size: 1.07602510886597e-08\n",
      " (4) Step size: 3.0623701047904136e-14\n"
     ]
    },
    {
     "data": {
      "image/png": "[encoded data removed]",
      "text/plain": [
       "<Figure size 640x480 with 1 Axes>"
      ]
     },
     "metadata": {},
     "output_type": "display_data"
    }
   ],
   "source": [
    "def solve_nonlinear_pendulum(m, alpha, beta, T, max_iterations=100, tolerance=1e-3, verbose=False):\n",
    "    \n",
    "    # Discretization\n",
    "    t_bc = numpy.linspace(0.0, T, m + 2)\n",
    "    t = t_bc[1:-1]\n",
    "    delta_t = T / (m + 1)\n",
    "    diagonal = numpy.ones(t.shape)\n",
    "    G = numpy.empty(t_bc.shape)\n",
    "    \n",
    "    # Initial guess\n",
    "    theta = 0.7 * numpy.cos(t_bc)\n",
    "    theta[0] = alpha\n",
    "    theta[-1] = beta\n",
    "    \n",
    "    # Main iteration loop\n",
    "    success = False\n",
    "    for num_step in range(1, max_iterations):\n",
    "        \n",
    "        # Construct Jacobian matrix\n",
    "        J = numpy.diag(diagonal * -2.0 / delta_t**2 + numpy.cos(theta[1:-1]), 0)\n",
    "        J += numpy.diag(diagonal[:-1] / delta_t**2, -1)\n",
    "        J += numpy.diag(diagonal[:-1] / delta_t**2, 1)\n",
    "        \n",
    "        # Construct vector G\n",
    "        G = (theta[:-2] - 2.0 * theta[1:-1] + theta[2:]) / delta_t**2 + numpy.sin(theta[1:-1])\n",
    "        \n",
    "        # Take care of BCs\n",
    "        G[0] = (alpha - 2.0 * theta[1] + theta[2]) / delta_t**2 + numpy.sin(theta[1])\n",
    "        G[-1] = (theta[-3] - 2.0 * theta[-2] + beta) / delta_t**2 + numpy.sin(theta[-2])\n",
    "        \n",
    "        # Solve\n",
    "        delta = numpy.linalg.solve(J, -G)\n",
    "        theta[1:-1] += delta\n",
    "        \n",
    "        if verbose:\n",
    "            print(\" (%s) Step size: %s\" % (num_step, numpy.linalg.norm(delta)))\n",
    "        \n",
    "        if numpy.linalg.norm(delta) < tolerance:\n",
    "            success = True\n",
    "            break\n",
    "            \n",
    "    if not success:\n",
    "        print(numpy.linalg.norm(delta))\n",
    "        raise ValueError(\"Reached maximum allowed steps before convergence criteria met.\")\n",
    "    \n",
    "    return t_bc, theta\n",
    "\n",
    "t, theta = solve_nonlinear_pendulum(100, 0.7, 0.7, 2.0 * numpy.pi, tolerance=1e-9, verbose=True)\n",
    "plt.plot(t, theta)\n",
    "plt.show()"
   ]
  },
  {
   "cell_type": "code",
   "execution_count": null,
   "metadata": {
    "slideshow": {
     "slide_type": "skip"
    }
   },
   "outputs": [
    {
     "data": {
      "image/png": "[encoded data removed]",
      "text/plain": [
       "<Figure size 640x480 with 1 Axes>"
      ]
     },
     "metadata": {},
     "output_type": "display_data"
    }
   ],
   "source": [
    "# Linear Problem\n",
    "alpha = 0.7\n",
    "beta = 0.7\n",
    "##### if we change alpha = 0.2 and beta = 0.2, I think it converges better\n",
    "T = 2.0 * numpy.pi\n",
    "t = numpy.linspace(0, T, 100)\n",
    "fig = plt.figure()\n",
    "axes = fig.add_subplot(1, 1, 1)\n",
    "axes.plot(t, linear_pendulum(t, alpha, beta, T), 'r-', label=\"Linear\")\n",
    "\n",
    "# Non-linear problem\n",
    "t, theta = solve_nonlinear_pendulum(100, alpha, beta, T)\n",
    "axes.plot(t, theta, 'b-', label=\"Non-Linear\")\n",
    "\n",
    "axes.set_title(\"Solutions to the Pendulum Problem\")\n",
    "axes.set_xlabel(\"t\")\n",
    "axes.set_ylabel(\"$\\theta$\")\n",
    "\n",
    "plt.show()"
   ]
  },
  {
   "cell_type": "markdown",
   "metadata": {
    "slideshow": {
     "slide_type": "subslide"
    }
   },
   "source": [
    "### Accuracy\n",
    "\n",
    "Note that there are two different ideas of convergence going on in our non-linear solver above, one is the convergence of the finite difference approximation controlled by $h$ and the convergence of the Newton iteration.  We expect both to be second order (Newton's method converges quadratically under suitable assumptions).  How do these two methods combine to affect the global error though?"
   ]
  },
  {
   "cell_type": "markdown",
   "metadata": {
    "slideshow": {
     "slide_type": "subslide"
    }
   },
   "source": [
    "First let's compute the LTE\n",
    "$$\\begin{aligned}\n",
    "    \\tau_{i} &= \\frac{1}{\\Delta t^2} (\\theta(t_{i+1}) - 2 \\theta(t_i) + \\theta(t_{i-1})) + \\sin \\theta(t_i) \\\\\n",
    "    &= \\frac{1}{\\Delta t^2} \\left (\\theta(t_i) + \\theta'(t_i) \\Delta t + \\frac{1}{2} \\theta''(t_i) \\Delta t^2 + \\frac{1}{6} \\theta'''(t_i) \\Delta t^3 + \\frac{1}{24} \\theta^{(4)}(t_i) \\Delta t^4 - 2 \\theta(t_i) \\right .\\\\\n",
    "    &\\quad \\quad \\quad \\left . + \\theta(t_i) - \\theta'(t_i) \\Delta t + \\frac{1}{2} \\theta''(t_i) \\Delta t^2 - \\frac{1}{6} \\theta'''(t_i) \\Delta t^3 + \\frac{1}{24} \\theta^{(4)}(t_i) \\Delta t^4 + \\mathcal{O}(\\Delta t^5) \\right) + \\sin \\theta(t_i) \\\\\n",
    "    &= \\frac{1}{\\Delta t^2} \\left (\\theta''(t_i) \\Delta t^2 + \\frac{1}{12} \\theta^{(4)}(t_i) \\Delta t^4 \\mathcal{O}(\\Delta t^6) \\right) + \\sin \\theta(t_i) \\\\\n",
    "    &= \\theta''(t_i)  + \\sin \\theta(t_i) + \\frac{1}{12} \\theta^{(4)}(t_i) \\Delta t^2 + \\mathcal{O}(\\Delta t^4).\n",
    "\\end{aligned}$$"
   ]
  },
  {
   "cell_type": "markdown",
   "metadata": {
    "slideshow": {
     "slide_type": "subslide"
    }
   },
   "source": [
    "For Newton's method we can consider the difference of taking a step with the true solution to the BVP $\\hat{\\theta}$ vs. the approximate solution $\\theta$.  We can formulate an analogous LTE where\n",
    "$$\n",
    "    G(\\Theta) = 0 \\quad G(\\hat{\\Theta}) = \\tau.\n",
    "$$"
   ]
  },
  {
   "cell_type": "markdown",
   "metadata": {
    "slideshow": {
     "slide_type": "subslide"
    }
   },
   "source": [
    "Following our discussion from before we can use these two expressions to find\n",
    "$$\n",
    "    G(\\Theta) - G(\\hat{\\Theta}) = -\\tau\n",
    "$$\n",
    "and from here we want to derive an expression of the global error $E = \\Theta - \\hat{\\Theta}$.  "
   ]
  },
  {
   "cell_type": "markdown",
   "metadata": {
    "slideshow": {
     "slide_type": "subslide"
    }
   },
   "source": [
    "Since $G(\\theta)$ is not linear we will write the above expression as a Taylor series to find\n",
    "$$\n",
    "    G(\\Theta) = G(\\hat{\\Theta}) + J(\\hat{\\Theta}) E + \\mathcal{O}(||E||^2).\n",
    "$$"
   ]
  },
  {
   "cell_type": "markdown",
   "metadata": {
    "slideshow": {
     "slide_type": "subslide"
    }
   },
   "source": [
    "Using this expression we find\n",
    "$$\n",
    "    J(\\hat{\\Theta}) E = -\\tau + \\mathcal{O}(||E||^2).\n",
    "$$\n",
    "Ignoring higher order terms then we have a linear expression for $E$ which we can solve."
   ]
  },
  {
   "cell_type": "markdown",
   "metadata": {
    "slideshow": {
     "slide_type": "subslide"
    }
   },
   "source": [
    "This motivates another definition of stability then involving the Jacobian of $G$.  The nonlinear difference methods $G(\\Theta) = 0$ is *stable* in some norm $||\\cdot||$ if the matrices $(J_{\\Delta t})^{-1}$ are uniformly bounded in the norm as $\\Delta t \\rightarrow 0$.  In other words $\\exists C$ and $\\Delta t^0$ s.t.\n",
    "$$\n",
    "    ||(J_{\\Delta t})^{-1}|| \\leq C \\quad \\forall \\Delta t < \\Delta t^0.\n",
    "$$"
   ]
  },
  {
   "cell_type": "markdown",
   "metadata": {
    "slideshow": {
     "slide_type": "subslide"
    }
   },
   "source": [
    "Given this sense of stability and consistency ($||\\tau|| \\rightarrow 0$ as $\\Delta t \\rightarrow 0$) then the method converges as\n",
    "$$\n",
    "    ||E_{\\Delta t}|| \\rightarrow 0 \\quad \\text{as} \\quad \\Delta t \\rightarrow 0.\n",
    "$$\n",
    "\n",
    "Note that we are still not guaranteed that Newton's method will converge, say from a bad initial guess, even though we have shown convergence.  It can be proven that Newton's method will converge from a sufficiently good initial guess.  It also should be noted that although Newton's method may have an error that is to round-off does not imply that the error will follow suit."
   ]
  },
  {
   "cell_type": "markdown",
   "metadata": {},
   "source": [
    "## Exercises  \n",
    "\n",
    "--- \n",
    "\n",
    "**Exercise 1.**  \n",
    "Use the centered second-order finite difference formula to solve  \n",
    "\n",
    "$$\n",
    "u'' = -\\pi^2 \\cos(\\pi x), \\quad x \\in (0,1), \\quad u(0)=1, \\; u(1)=-1.\n",
    "$$  \n",
    "\n",
    "---\n",
    "\n",
    "**Exercise 2.**  \n",
    "Show that  \n",
    "\n",
    "$$\n",
    "u_p(x) = \\sin(p\\pi x), \\quad p=1,2,3,\\ldots\n",
    "$$  \n",
    "\n",
    "are eigenfunctions of $\\frac{\\partial^2}{\\partial x^2}$ with eigenvalues  \n",
    "\n",
    "$$\n",
    "\\lambda_p = -p^2\\pi^2.\n",
    "$$  \n",
    "\n",
    "Verify that  \n",
    "\n",
    "$$\n",
    "u_{pj} = \\sin(p\\pi jh), \\quad j=1,\\ldots,m\n",
    "$$  \n",
    "\n",
    "are eigen-grid functions of $A$ with eigenvalues  \n",
    "\n",
    "$$\n",
    "\\lambda_p = \\frac{2}{h^2}\\big(\\cos(p\\pi h)-1\\big).\n",
    "$$  \n",
    "\n",
    "---\n",
    "\n",
    "**Exercise 3.**  \n",
    "Consider the boundary value problem  \n",
    "\n",
    "$$\n",
    "u'' = 3u - 2u', \\quad 0<x<1, \\quad u(0)=e^3, \\; u(1)=1.\n",
    "$$  \n",
    "\n",
    "1. Construct a second-order finite difference method and write as $AU=F$.  \n",
    "2. Determine analytically the solution.  \n",
    "3. Verify numerically that the method is second-order accurate. \n",
    "\n",
    "---\n",
    "\n",
    "**Exercise 4.**  \n",
    "Solve $u''(x) = f(x)$, $0<x<1/2$, with $u(0)=1$, $u'(1/2) = -\\pi$ and $f(x) = -\\pi^2 \\cos(\\pi x)$.  \n",
    "\n",
    "Implement using:  \n",
    "1. One-sided first order approximation  \n",
    "2. Centered 2nd order approximation\n",
    "3. One-sided second order approximation\n",
    "\n",
    "Analyze convergence with log-log plot.  \n",
    "\n",
    "---\n",
    "\n",
    "**Exercise 5.**  \n",
    "Solve $u''(x) = e^x$ in $(0,1)$ with $u(0)=3$, $u'(1)=-5$.  \n",
    "\n",
    "1. Write second-order FD code (verify 2nd order).  \n",
    "2. Use extrapolation (verify 4th order).  \n",
    "3. Use deferred correction (verify 4th order).  \n",
    "\n",
    "---\n",
    "\n",
    "**Exercise 6.**  \n",
    "Solve nonlinear BVP  \n",
    "\n",
    "$$\n",
    "u + \\sin(u) = 0, \\quad 0 < x < T, \\quad u(0)=\\alpha, \\; u(T)=\\beta,\n",
    "$$  \n",
    "\n",
    "using centered 2nd-order FD + Newton’s method.  \n",
    "\n",
    "---"
   ]
  },
  {
   "cell_type": "markdown",
   "metadata": {},
   "source": []
  }
 ],
 "metadata": {
  "celltoolbar": "Slideshow",
  "kernelspec": {
   "display_name": "numerics",
   "language": "python",
   "name": "python3"
  },
  "language_info": {
   "codemirror_mode": {
    "name": "ipython",
    "version": 3
   },
   "file_extension": ".py",
   "mimetype": "text/x-python",
   "name": "python",
   "nbconvert_exporter": "python",
   "pygments_lexer": "ipython3",
   "version": "3.11.13"
  },
  "latex_envs": {
   "bibliofile": "biblio.bib",
   "cite_by": "apalike",
   "current_citInitial": 1,
   "eqLabelWithNumbers": true,
   "eqNumInitial": 0
  }
 },
 "nbformat": 4,
 "nbformat_minor": 1
}
